{
 "cells": [
  {
   "cell_type": "markdown",
   "id": "0fa5b22d-db89-4190-8e86-601dc886a19d",
   "metadata": {},
   "source": [
    "# Task 3"
   ]
  },
  {
   "cell_type": "markdown",
   "id": "d3d03ceb-83a6-47ad-af6e-c33d4f07b171",
   "metadata": {},
   "source": [
    "#### Import TensorFlow"
   ]
  },
  {
   "cell_type": "code",
   "execution_count": null,
   "id": "c94c7259-d338-4548-af88-2178773a400c",
   "metadata": {},
   "outputs": [],
   "source": [
    "import tensorflow as tf\n",
    "import tensorflow.compat.v1 as tfc\n",
    "from tensorflow.keras import datasets, layers, models\n",
    "import tensorflow_datasets as tfds\n",
    "import matplotlib.pyplot as plt\n",
    "import numpy as np\n",
    "import cv2\n",
    "from random import randint\n",
    "\n",
    "from tensorflow.keras.preprocessing.image import ImageDataGenerator\n",
    "import scipy"
   ]
  },
  {
   "cell_type": "markdown",
   "id": "3775a190-e407-464e-a2bd-c43bb5890de5",
   "metadata": {},
   "source": [
    "#### Define Resize and Shift Method"
   ]
  },
  {
   "cell_type": "code",
   "execution_count": null,
   "id": "2b54cbcf-86ce-425e-ab30-a7c4abd2e4f0",
   "metadata": {},
   "outputs": [],
   "source": [
    "def resizeAndShiftHorizontal(width_shift_val, xDataSet, yDataset, label):\n",
    "    datagen = ImageDataGenerator(width_shift_range=width_shift_val, height_shift_range=0)\n",
    "    \n",
    "    new_shape = (56,56)\n",
    "    returnDataSet = np.zeros(shape=(xDataSet.shape[0],)+new_shape)\n",
    "    for idx in range(xDataSet.shape[0]):\n",
    "        yStart = 28\n",
    "        yEnd = 56\n",
    "        if label == 'TRAIN':\n",
    "            yStart = 0\n",
    "            yEnd = 28\n",
    "                \n",
    "        returnDataSet[idx][ yStart:yEnd, 14: 14 + 28] = xDataSet[idx]\n",
    "\n",
    "    # define number of rows & columns\n",
    "    num_row = 2\n",
    "    num_col = 8\n",
    "    num= num_row*num_col\n",
    "\n",
    "    # plot before\n",
    "    print(label + ' BEFORE:\\n')\n",
    "    fig1, axes1 = plt.subplots(num_row, num_col, figsize=(1.5*num_col,2*num_row))\n",
    "    for i in range(num):\n",
    "         ax = axes1[i//num_col, i%num_col]\n",
    "         ax.imshow(returnDataSet[i], cmap='gray_r')\n",
    "         ax.set_title('Label: {}'.format(yDataset[i]))\n",
    "    plt.tight_layout()\n",
    "    plt.show()\n",
    "\n",
    "    # plot after\n",
    "    print(label + ' AFTER:\\n')\n",
    "    fig2, axes2 = plt.subplots(num_row, num_col, figsize=(1.5*num_col,2*num_row))\n",
    "    for X, Y in datagen.flow(returnDataSet.reshape(returnDataSet.shape[0], 56, 56, 1),yDataset.reshape(yDataset.shape[0], 1),batch_size=num,shuffle=False):\n",
    "         for i in range(0, num):\n",
    "              ax = axes2[i//num_col, i%num_col]\n",
    "              ax.imshow(X[i].reshape(56,56), cmap='gray_r')\n",
    "              ax.set_title('Label: {}'.format(int(Y[i])))\n",
    "         break\n",
    "    plt.tight_layout()\n",
    "    plt.show()\n",
    "    return returnDataSet\n"
   ]
  },
  {
   "cell_type": "markdown",
   "id": "e3c674d0-e598-42ba-84ad-a6cdd2356de2",
   "metadata": {},
   "source": [
    "#### Load MNIST Dataset"
   ]
  },
  {
   "cell_type": "code",
   "execution_count": null,
   "id": "622fd480-53ca-4cc8-8960-6cd01a564cb1",
   "metadata": {},
   "outputs": [],
   "source": [
    "from tensorflow.keras.datasets import mnist\n",
    "(train_images, train_labels), (test_images, test_labels) = mnist.load_data()\n",
    "\n",
    "train_images = train_images / 255\n",
    "test_images = test_images / 255"
   ]
  },
  {
   "cell_type": "markdown",
   "id": "04f49e8e-d015-4744-9dcf-526e72c3528e",
   "metadata": {},
   "source": [
    "#### Building a Training Pipline"
   ]
  },
  {
   "cell_type": "code",
   "execution_count": null,
   "id": "9b3bc33c-5f34-4c7b-81bd-93e9337ed20b",
   "metadata": {},
   "outputs": [],
   "source": [
    "ds_train = resizeAndShiftHorizontal(0.25, train_images, train_labels, \"TRAIN\")"
   ]
  },
  {
   "cell_type": "markdown",
   "id": "94dba96e-b9dd-4d1a-b86f-29d5b024be00",
   "metadata": {},
   "source": [
    "#### Building an Evaluation Pipeline"
   ]
  },
  {
   "cell_type": "code",
   "execution_count": null,
   "id": "a0ce2d45-e653-408f-9634-a7353d879c83",
   "metadata": {},
   "outputs": [],
   "source": [
    "ds_test = resizeAndShiftHorizontal(0.25, test_images, test_labels, \"TEST\")"
   ]
  },
  {
   "cell_type": "markdown",
   "id": "812b623b-3593-474e-88f4-fd6e80d40395",
   "metadata": {},
   "source": [
    "#### Create and Train the Model"
   ]
  }
 ],
 "metadata": {
  "kernelspec": {
   "display_name": "Python 3 (ipykernel)",
   "language": "python",
   "name": "python3"
  },
  "language_info": {
   "codemirror_mode": {
    "name": "ipython",
    "version": 3
   },
   "file_extension": ".py",
   "mimetype": "text/x-python",
   "name": "python",
   "nbconvert_exporter": "python",
   "pygments_lexer": "ipython3",
   "version": "3.9.7"
  }
 },
 "nbformat": 4,
 "nbformat_minor": 5
}
