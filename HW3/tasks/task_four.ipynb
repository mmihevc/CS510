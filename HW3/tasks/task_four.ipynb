{
 "cells": [
  {
   "cell_type": "markdown",
   "id": "858c596b-2ba3-49e6-bf75-98ace4b4c60a",
   "metadata": {},
   "source": [
    "# Task 4"
   ]
  },
  {
   "cell_type": "markdown",
   "id": "7de707b5-d680-4e65-9179-d71d62db5e36",
   "metadata": {},
   "source": [
    "#### Sources\n",
    "\n",
    "https://github.com/jessestauffer/MNIST-Flip/blob/master/main.ipynb"
   ]
  },
  {
   "cell_type": "markdown",
   "id": "987ad9b6-3daa-488b-ac55-8a8196768f66",
   "metadata": {},
   "source": [
    "#### Import TensorFlow"
   ]
  },
  {
   "cell_type": "code",
   "execution_count": null,
   "id": "b6621725-d581-45ad-adef-48ca83734636",
   "metadata": {},
   "outputs": [],
   "source": [
    "import tensorflow as tf\n",
    "import tensorflow.compat.v1 as tfc\n",
    "from tensorflow.keras import datasets, layers, models\n",
    "import tensorflow_datasets as tfds\n",
    "import matplotlib.pyplot as plt\n",
    "import numpy as np\n",
    "import cv2\n",
    "from random import randint\n",
    "\n",
    "from tensorflow.keras.preprocessing.image import ImageDataGenerator\n",
    "import scipy"
   ]
  },
  {
   "cell_type": "markdown",
   "id": "19af6753-5c89-4c9f-bbf2-7c28e2cd5d15",
   "metadata": {},
   "source": [
    "#### Define Methods"
   ]
  },
  {
   "cell_type": "code",
   "execution_count": null,
   "id": "510abb22-8c8d-4089-acdf-37ea84be9269",
   "metadata": {},
   "outputs": [],
   "source": [
    "def evaluate(testSet, testLabels, testModel):\n",
    "    plt.plot(history.history['accuracy'], label='accuracy')\n",
    "    plt.plot(history.history['val_accuracy'], label = 'val_accuracy')\n",
    "    plt.xlabel('Epoch')\n",
    "    plt.ylabel('Accuracy')\n",
    "    plt.ylim([0, 1])\n",
    "    plt.legend(loc='lower right')\n",
    "\n",
    "    test_loss, test_acc = testModel.evaluate(testSet, testLabels, verbose=2) \n",
    "    print(\"ACCURACY: \" + str(test_acc))   \n",
    "    \n",
    "def displaySamplesFromDataSet(xDataSet, yDataset):\n",
    "    # define number of images to show\n",
    "    num_row = 2\n",
    "    num_col = 8\n",
    "    num= num_row*num_col\n",
    "    \n",
    "    # get images\n",
    "    images = xDataSet[0:num]\n",
    "    labels = yDataset[0:num]\n",
    "    \n",
    "    # plot images\n",
    "    fig, axes = plt.subplots(num_row, num_col, figsize=(1.5*num_col,2*num_row))\n",
    "    for i in range(num):\n",
    "         ax = axes[i//num_col, i%num_col]\n",
    "         ax.imshow(images[i], cmap='gray_r')\n",
    "         ax.set_title('Label: {}'.format(labels[i]))\n",
    "    plt.tight_layout()\n",
    "    plt.show()"
   ]
  },
  {
   "cell_type": "markdown",
   "id": "4c10b4f8-16f3-462e-8bb7-5509caa79843",
   "metadata": {},
   "source": [
    "#### Load MNIST Dataset"
   ]
  },
  {
   "cell_type": "code",
   "execution_count": null,
   "id": "77a74ccc-f79b-4983-b44f-75fdf1e8f304",
   "metadata": {},
   "outputs": [],
   "source": [
    "from tensorflow.keras.datasets import mnist\n",
    "(train_images, train_labels), (test_images, test_labels) = mnist.load_data()\n",
    "\n",
    "train_images = train_images / 255\n",
    "test_images = test_images / 255"
   ]
  },
  {
   "cell_type": "markdown",
   "id": "aa1a79e6-fd9a-4b48-a10f-5f7edc15de99",
   "metadata": {},
   "source": [
    "#### Before Flip"
   ]
  },
  {
   "cell_type": "code",
   "execution_count": null,
   "id": "284f823c-4e89-4efb-b714-22348aee80ac",
   "metadata": {
    "tags": []
   },
   "outputs": [],
   "source": [
    "displaySamplesFromDataSet(train_images, test_images)"
   ]
  },
  {
   "cell_type": "code",
   "execution_count": null,
   "id": "b0957154-0875-4b52-af80-c212e6c3e378",
   "metadata": {},
   "outputs": [],
   "source": [
    "displaySamplesFromDataSet(train_labels, test_labels)"
   ]
  },
  {
   "cell_type": "markdown",
   "id": "48f83adf-ce99-43e3-b862-023d36c3116b",
   "metadata": {},
   "source": [
    "#### Flip Image"
   ]
  },
  {
   "cell_type": "code",
   "execution_count": null,
   "id": "afa7fc52-857c-40e8-b07e-9ac3458258ac",
   "metadata": {},
   "outputs": [],
   "source": [
    "datagen = ImageDataGenerator(rotation_range=180)\n",
    "train_images = train_images.reshape((train_images.shape[0], 28, 28, 1))\n",
    "test_images = test_images.reshape((test_images.shape[0], 28, 28, 1))\n",
    "# convert from int to float\n",
    "train_images = train_images.astype('float32')\n",
    "test_images = test_images.astype('float32')\n",
    "# fit the data\n",
    "datagen.fit(train_images)"
   ]
  },
  {
   "cell_type": "markdown",
   "id": "a9861711-3ba6-4d52-af61-66baa8b36caf",
   "metadata": {},
   "source": [
    "#### After Flip"
   ]
  },
  {
   "cell_type": "code",
   "execution_count": null,
   "id": "916ddac0-c9a5-4525-92a7-05b8c5959990",
   "metadata": {
    "tags": []
   },
   "outputs": [],
   "source": [
    "displaySamplesFromDataSet(train_images, test_images)"
   ]
  },
  {
   "cell_type": "code",
   "execution_count": null,
   "id": "b477fe93-7793-4918-a6e4-e5e9928b1fa6",
   "metadata": {},
   "outputs": [],
   "source": [
    "displaySamplesFromDataSet(train_labels, test_labels)"
   ]
  }
 ],
 "metadata": {
  "kernelspec": {
   "display_name": "Python 3 (ipykernel)",
   "language": "python",
   "name": "python3"
  },
  "language_info": {
   "codemirror_mode": {
    "name": "ipython",
    "version": 3
   },
   "file_extension": ".py",
   "mimetype": "text/x-python",
   "name": "python",
   "nbconvert_exporter": "python",
   "pygments_lexer": "ipython3",
   "version": "3.9.7"
  }
 },
 "nbformat": 4,
 "nbformat_minor": 5
}
