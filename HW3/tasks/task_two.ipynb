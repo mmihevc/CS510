{
 "cells": [
  {
   "cell_type": "markdown",
   "id": "72816fc2-c0a6-41d9-8483-d6e60a709714",
   "metadata": {},
   "source": [
    "# Task 2"
   ]
  },
  {
   "cell_type": "markdown",
   "id": "6a2620b2-22fa-4006-a7c0-f3b9299b89ef",
   "metadata": {},
   "source": [
    "#### Import Tensor Flow"
   ]
  },
  {
   "cell_type": "code",
   "execution_count": null,
   "id": "d101776f-693a-4c9b-ad53-9570e09aeac7",
   "metadata": {},
   "outputs": [],
   "source": [
    "import tensorflow as tf\n",
    "import tensorflow.compat.v1 as tfc\n",
    "from tensorflow.keras import datasets, layers, models\n",
    "import tensorflow_datasets as tfds\n",
    "import matplotlib.pyplot as plt\n",
    "import numpy as np\n",
    "import cv2\n",
    "from random import randint\n",
    "\n",
    "from tensorflow.keras.preprocessing.image import ImageDataGenerator\n",
    "import scipy"
   ]
  },
  {
   "cell_type": "markdown",
   "id": "7e1279af-695e-4e47-b4b3-75888ced5a5f",
   "metadata": {},
   "source": [
    "#### Define Methods"
   ]
  },
  {
   "cell_type": "code",
   "execution_count": null,
   "id": "27674585-c6c0-472e-b090-d5ed1bf69f02",
   "metadata": {},
   "outputs": [],
   "source": [
    "def evaluate(testSet, testLabels, testModel):\n",
    "    plt.plot(history.history['accuracy'], label='accuracy')\n",
    "    plt.plot(history.history['val_accuracy'], label = 'val_accuracy')\n",
    "    plt.xlabel('Epoch')\n",
    "    plt.ylabel('Accuracy')\n",
    "    plt.ylim([0, 1])\n",
    "    plt.legend(loc='lower right')\n",
    "\n",
    "    test_loss, test_acc = testModel.evaluate(testSet, testLabels, verbose=2) \n",
    "    print(\"ACCURACY: \" + str(test_acc))\n",
    "\n",
    "def resizeAndShift(width_shift_val, height_shift_val, xDataSet, yDataset, label):\n",
    "    datagen = ImageDataGenerator(width_shift_range=width_shift_val, height_shift_range=height_shift_val)\n",
    "    \n",
    "    new_shape = (56,56)\n",
    "    returnDataSet = np.zeros(shape=(xDataSet.shape[0],)+new_shape)\n",
    "    for idx in range(xDataSet.shape[0]):\n",
    "        returnDataSet[idx][14: 14 + 28, 14: 14 + 28] = xDataSet[idx]\n",
    "\n",
    "    # define number of rows & columns\n",
    "    num_row = 2\n",
    "    num_col = 8\n",
    "    num= num_row*num_col\n",
    "\n",
    "    # plot before\n",
    "    print(label + ' BEFORE:\\n')\n",
    "    fig1, axes1 = plt.subplots(num_row, num_col, figsize=(1.5*num_col,2*num_row))\n",
    "    for i in range(num):\n",
    "         ax = axes1[i//num_col, i%num_col]\n",
    "         ax.imshow(returnDataSet[i], cmap='gray_r')\n",
    "         ax.set_title('Label: {}'.format(yDataset[i]))\n",
    "    plt.tight_layout()\n",
    "    plt.show()\n",
    "\n",
    "    # plot after\n",
    "    print(label + ' AFTER:\\n')\n",
    "    fig2, axes2 = plt.subplots(num_row, num_col, figsize=(1.5*num_col,2*num_row))\n",
    "    for X, Y in datagen.flow(returnDataSet.reshape(returnDataSet.shape[0], 56, 56, 1),yDataset.reshape(yDataset.shape[0], 1),batch_size=num,shuffle=False):\n",
    "         for i in range(0, num):\n",
    "              ax = axes2[i//num_col, i%num_col]\n",
    "              ax.imshow(X[i].reshape(56,56), cmap='gray_r')\n",
    "              ax.set_title('Label: {}'.format(int(Y[i])))\n",
    "         break\n",
    "    plt.tight_layout()\n",
    "    plt.show()\n",
    "    return returnDataSet"
   ]
  },
  {
   "cell_type": "markdown",
   "id": "c6e23956-9e35-4207-a98d-46742d58a70e",
   "metadata": {},
   "source": [
    "#### Load MNIST Dataset"
   ]
  },
  {
   "cell_type": "code",
   "execution_count": null,
   "id": "15c3db94-ceb0-449b-8c9d-7469e320cd4d",
   "metadata": {},
   "outputs": [],
   "source": [
    "from tensorflow.keras.datasets import mnist\n",
    "(train_images, train_labels), (test_images, test_labels) = mnist.load_data()"
   ]
  },
  {
   "cell_type": "code",
   "execution_count": null,
   "id": "9aa94cf4-ff8b-41fd-a10a-ff619462d124",
   "metadata": {},
   "outputs": [],
   "source": [
    "train_images = train_images / 255\n",
    "test_images = test_images / 255"
   ]
  },
  {
   "cell_type": "markdown",
   "id": "ba6baa72-dad6-40a0-8026-9867d59a1c4c",
   "metadata": {},
   "source": [
    "#### Building a Training Pipeline"
   ]
  },
  {
   "cell_type": "code",
   "execution_count": null,
   "id": "9b58f9f4-de20-4b30-8e53-d313e9dbe000",
   "metadata": {},
   "outputs": [],
   "source": [
    "ds_train = resizeAndShift(0.25, 0.25, train_images, train_labels, \"TRAIN\")"
   ]
  },
  {
   "cell_type": "markdown",
   "id": "6edb7cb8-2daf-47ac-9d22-76f0e342d315",
   "metadata": {},
   "source": [
    "#### Building an Evaluation Pipeline"
   ]
  },
  {
   "cell_type": "code",
   "execution_count": null,
   "id": "42fe2227-75fb-4d25-b670-52ecb02445cc",
   "metadata": {},
   "outputs": [],
   "source": [
    "ds_test = resizeAndShift(0.25, 0.25, test_images, test_labels, \"TEST\")"
   ]
  },
  {
   "cell_type": "markdown",
   "id": "80b86be1-1769-4cc2-8b7f-56be1ff694ff",
   "metadata": {},
   "source": [
    "#### Create and Train the Model"
   ]
  },
  {
   "cell_type": "code",
   "execution_count": null,
   "id": "2e803487-82a7-43d5-a273-9a3fbedf16c8",
   "metadata": {},
   "outputs": [],
   "source": [
    "model = models.Sequential()\n",
    "model.add(layers.Conv2D(32, (3, 3), activation='relu', input_shape=(56, 56, 1)))\n",
    "model.add(layers.MaxPooling2D((2, 2)))\n",
    "model.add(layers.Conv2D(64, (3, 3), activation='relu'))\n",
    "model.add(layers.MaxPooling2D((2, 2)))\n",
    "model.add(layers.Conv2D(64, (3, 3), activation='relu'))\n",
    "model.add(layers.Flatten())\n",
    "model.add(layers.Dense(64, activation='relu'))\n",
    "model.add(layers.Dense(10))\n",
    "\n",
    "model.compile(optimizer='adam',\n",
    "              loss=tf.keras.losses.SparseCategoricalCrossentropy(from_logits=True),\n",
    "              metrics=['accuracy'])\n",
    "\n",
    "history = model_2.fit(ds_train, train_labels, epochs=5, \n",
    "                    validation_data=(ds_test, test_labels))"
   ]
  },
  {
   "cell_type": "markdown",
   "id": "03bbd3c1-124e-4ce4-a045-718c1b3cb431",
   "metadata": {},
   "source": [
    "#### Evaluate the Model"
   ]
  },
  {
   "cell_type": "code",
   "execution_count": null,
   "id": "4f264f4c-f46e-4068-8df0-0c3f70c3eb93",
   "metadata": {},
   "outputs": [],
   "source": [
    "evaluate(ds_test, test_labels, model)"
   ]
  }
 ],
 "metadata": {
  "kernelspec": {
   "display_name": "Python 3 (ipykernel)",
   "language": "python",
   "name": "python3"
  },
  "language_info": {
   "codemirror_mode": {
    "name": "ipython",
    "version": 3
   },
   "file_extension": ".py",
   "mimetype": "text/x-python",
   "name": "python",
   "nbconvert_exporter": "python",
   "pygments_lexer": "ipython3",
   "version": "3.9.7"
  }
 },
 "nbformat": 4,
 "nbformat_minor": 5
}
