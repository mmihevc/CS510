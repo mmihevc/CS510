{
 "cells": [
  {
   "cell_type": "markdown",
   "id": "baf03521-59d2-49da-a279-8c427d853100",
   "metadata": {},
   "source": [
    "# Task 1"
   ]
  },
  {
   "cell_type": "markdown",
   "id": "942b910d-4173-4aad-a259-4de497a167e9",
   "metadata": {},
   "source": [
    "### Import TensorFlow"
   ]
  },
  {
   "cell_type": "code",
   "execution_count": null,
   "id": "8a03454f-be7a-45a3-a99a-fdbcaae09faa",
   "metadata": {},
   "outputs": [],
   "source": [
    "import tensorflow as tf\n",
    "import tensorflow.compat.v1 as tfc\n",
    "from tensorflow.keras import datasets, layers, models\n",
    "import tensorflow_datasets as tfds\n",
    "import matplotlib.pyplot as plt\n",
    "import numpy as np\n",
    "import cv2\n",
    "from random import randint\n",
    "\n",
    "from tensorflow.keras.preprocessing.image import ImageDataGenerator\n",
    "import scipy"
   ]
  },
  {
   "cell_type": "markdown",
   "id": "935f4f07-8b6d-4e2f-bda0-be773de2a95a",
   "metadata": {},
   "source": [
    "#### Define Methods"
   ]
  },
  {
   "cell_type": "code",
   "execution_count": null,
   "id": "7612de02-7986-4429-9fa8-7d1fcb4349e7",
   "metadata": {},
   "outputs": [],
   "source": [
    "def evaluate(testSet, testLabels, testModel):\n",
    "    plt.plot(history.history['accuracy'], label='accuracy')\n",
    "    plt.plot(history.history['val_accuracy'], label = 'val_accuracy')\n",
    "    plt.xlabel('Epoch')\n",
    "    plt.ylabel('Accuracy')\n",
    "    plt.ylim([0, 1])\n",
    "    plt.legend(loc='lower right')\n",
    "\n",
    "    test_loss, test_acc = testModel.evaluate(testSet, testLabels, verbose=2) \n",
    "    print(\"ACCURACY: \" + str(test_acc))\n",
    "    \n",
    "def displaySamplesFromDataSet(xDataSet, yDataset):\n",
    "    # define number of images to show\n",
    "    num_row = 2\n",
    "    num_col = 8\n",
    "    num= num_row*num_col\n",
    "    \n",
    "    # get images\n",
    "    images = xDataSet[0:num]\n",
    "    labels = yDataset[0:num]\n",
    "    \n",
    "    # plot images\n",
    "    fig, axes = plt.subplots(num_row, num_col, figsize=(1.5*num_col,2*num_row))\n",
    "    for i in range(num):\n",
    "         ax = axes[i//num_col, i%num_col]\n",
    "         ax.imshow(images[i], cmap='gray_r')\n",
    "         ax.set_title('Label: {}'.format(labels[i]))\n",
    "    plt.tight_layout()\n",
    "    plt.show()"
   ]
  },
  {
   "cell_type": "markdown",
   "id": "49070b6e-fc66-47b0-b559-054880a84a20",
   "metadata": {},
   "source": [
    "#### Load MNIST Dataset"
   ]
  },
  {
   "cell_type": "code",
   "execution_count": null,
   "id": "0a57f2d0-9281-47ac-94fb-113e8a6d3112",
   "metadata": {},
   "outputs": [],
   "source": [
    "from tensorflow.keras.datasets import mnist\n",
    "(train_images, train_labels), (test_images, test_labels) = mnist.load_data()\n",
    "\n",
    "train_images = train_images / 255\n",
    "test_images = test_images / 255"
   ]
  },
  {
   "cell_type": "markdown",
   "id": "83cbb8f8-f7c0-408b-ba6c-1d0625858442",
   "metadata": {},
   "source": [
    "#### Building a Training Pipeline"
   ]
  },
  {
   "cell_type": "code",
   "execution_count": null,
   "id": "555d3dd0-3f79-40e9-8259-0eb06fbf390f",
   "metadata": {},
   "outputs": [],
   "source": [
    "displaySamplesFromDataSet(train_images, train_labels)"
   ]
  },
  {
   "cell_type": "markdown",
   "id": "6e00786a-428d-40ce-8de8-fb129b93a965",
   "metadata": {},
   "source": [
    "#### Building an Evaluation Pipeline"
   ]
  },
  {
   "cell_type": "code",
   "execution_count": null,
   "id": "923a1ac1-db4c-43f3-a8ab-f065591bb05a",
   "metadata": {},
   "outputs": [],
   "source": [
    "displaySamplesFromDataSet(test_images, test_labels)"
   ]
  },
  {
   "cell_type": "markdown",
   "id": "f4a34d57-7422-4529-9d69-9a2f0da9bd68",
   "metadata": {},
   "source": [
    "#### Create and Train the Model"
   ]
  },
  {
   "cell_type": "code",
   "execution_count": null,
   "id": "072311b7-6f3c-4492-b16e-786bef8fd435",
   "metadata": {},
   "outputs": [],
   "source": [
    "model = models.Sequential()\n",
    "model.add(layers.Conv2D(32, (3, 3), activation='relu', input_shape=(28, 28, 1)))\n",
    "model.add(layers.MaxPooling2D((2, 2)))\n",
    "model.add(layers.Conv2D(64, (3, 3), activation='relu'))\n",
    "model.add(layers.MaxPooling2D((2, 2)))\n",
    "model.add(layers.Conv2D(64, (3, 3), activation='relu'))\n",
    "model.add(layers.Flatten())\n",
    "model.add(layers.Dense(64, activation='relu'))\n",
    "model.add(layers.Dense(10))\n",
    "\n",
    "model.compile(optimizer='adam',\n",
    "              loss=tf.keras.losses.SparseCategoricalCrossentropy(from_logits=True),\n",
    "              metrics=['accuracy'])\n",
    "\n",
    "history = model.fit(train_images, train_labels, epochs=5, \n",
    "                    validation_data=(test_images, test_labels))"
   ]
  },
  {
   "cell_type": "markdown",
   "id": "db06c53f-272f-4610-ac5f-48225a7d017c",
   "metadata": {},
   "source": [
    "#### Evaluate the Model"
   ]
  },
  {
   "cell_type": "code",
   "execution_count": null,
   "id": "351190e1-347a-41c6-8e85-c883f5141932",
   "metadata": {},
   "outputs": [],
   "source": [
    "evaluate(test_images, test_labels, model)"
   ]
  }
 ],
 "metadata": {
  "kernelspec": {
   "display_name": "Python 3 (ipykernel)",
   "language": "python",
   "name": "python3"
  },
  "language_info": {
   "codemirror_mode": {
    "name": "ipython",
    "version": 3
   },
   "file_extension": ".py",
   "mimetype": "text/x-python",
   "name": "python",
   "nbconvert_exporter": "python",
   "pygments_lexer": "ipython3",
   "version": "3.9.7"
  }
 },
 "nbformat": 4,
 "nbformat_minor": 5
}
