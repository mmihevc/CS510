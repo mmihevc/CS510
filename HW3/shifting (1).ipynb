{
  "metadata": {
    "accelerator": "GPU",
    "colab": {
      "collapsed_sections": [],
      "name": "cnn.ipynb",
      "toc_visible": true
    },
    "kernelspec": {
      "name": "python",
      "display_name": "Pyolite",
      "language": "python"
    },
    "language_info": {
      "codemirror_mode": {
        "name": "python",
        "version": 3
      },
      "file_extension": ".py",
      "mimetype": "text/x-python",
      "name": "python",
      "nbconvert_exporter": "python",
      "pygments_lexer": "ipython3",
      "version": "3.8"
    }
  },
  "nbformat_minor": 4,
  "nbformat": 4,
  "cells": [
    {
      "cell_type": "markdown",
      "source": "# Homework 3: Hunt Shifting Numbers",
      "metadata": {
        "id": "DSPCom-KmApV"
      }
    },
    {
      "cell_type": "markdown",
      "source": "### Import TensorFlow",
      "metadata": {
        "id": "m7KBpffWzlxH"
      }
    },
    {
      "cell_type": "code",
      "source": "import tensorflow as tf\nfrom tensorflow.keras import datasets, layers, models\nimport tensorflow_datasets as tfds\nimport matplotlib.pyplot as plt\nimport numpy as np",
      "metadata": {
        "id": "iAve6DCL4JH4",
        "tags": [],
        "trusted": true
      },
      "execution_count": 1,
      "outputs": [
        {
          "ename": "<class 'ModuleNotFoundError'>",
          "evalue": "No module named 'tensorflow'",
          "traceback": [
            "\u001b[0;31m---------------------------------------------------------------------------\u001b[0m",
            "\u001b[0;31mModuleNotFoundError\u001b[0m                       Traceback (most recent call last)",
            "Input \u001b[0;32mIn [1]\u001b[0m, in \u001b[0;36m<cell line: 1>\u001b[0;34m()\u001b[0m\n\u001b[0;32m----> 1\u001b[0m \u001b[38;5;28;01mimport\u001b[39;00m \u001b[38;5;21;01mtensorflow\u001b[39;00m \u001b[38;5;28;01mas\u001b[39;00m \u001b[38;5;21;01mtf\u001b[39;00m\n\u001b[1;32m      2\u001b[0m \u001b[38;5;28;01mfrom\u001b[39;00m \u001b[38;5;21;01mtensorflow\u001b[39;00m\u001b[38;5;21;01m.\u001b[39;00m\u001b[38;5;21;01mkeras\u001b[39;00m \u001b[38;5;28;01mimport\u001b[39;00m datasets, layers, models\n\u001b[1;32m      3\u001b[0m \u001b[38;5;28;01mimport\u001b[39;00m \u001b[38;5;21;01mmatplotlib\u001b[39;00m\u001b[38;5;21;01m.\u001b[39;00m\u001b[38;5;21;01mpyplot\u001b[39;00m \u001b[38;5;28;01mas\u001b[39;00m \u001b[38;5;21;01mplt\u001b[39;00m\n",
            "\u001b[0;31mModuleNotFoundError\u001b[0m: No module named 'tensorflow'"
          ],
          "output_type": "error"
        }
      ]
    },
    {
      "cell_type": "markdown",
      "source": "## Task 1",
      "metadata": {
        "tags": []
      }
    },
    {
      "cell_type": "markdown",
      "source": "### The MNIST dataset\n\n\nThe MNIST database of handwritten digits, available from this page, has a training set of 60,000 examples, and a test set of 10,000 examples. It is a subset of a larger set available from NIST. The digits have been size-normalized and centered in a fixed-size image.\n\nsource: https://www.tensorflow.org/tutorials/images/cnn",
      "metadata": {
        "id": "jRFxccghyMVo",
        "tags": []
      }
    },
    {
      "cell_type": "markdown",
      "source": "### Load the MNIST Dataset",
      "metadata": {}
    },
    {
      "cell_type": "code",
      "source": "mnist = tf.keras.datasets.mnist\n\n(x_train, y_train), (x_test, y_test) = mnist.load_data()\nx_train /= 255\nx_test /= 255\n\nx_train = x_train.reshape(60000, 784)\nx_test = x_test.reshape(10000, 784)\n",
      "metadata": {},
      "execution_count": null,
      "outputs": []
    },
    {
      "cell_type": "code",
      "source": "model = models.Sequential()\nmodel.add(layers.Conv2D(32, (3, 3), activation='relu', input_shape=(28, 28, 1)))\nmodel.add(layers.MaxPooling2D((2, 2)))\nmodel.add(layers.Conv2D(64, (3, 3), activation='relu'))\nmodel.add(layers.MaxPooling2D((2, 2)))\nmodel.add(layers.Conv2D(64, (3, 3), activation='relu'))\nmodel.add(layers.Flatten())\nmodel.add(layers.Dense(64, activation='relu'))\nmodel.add(layers.Dense(10))",
      "metadata": {
        "execution": {
          "iopub.execute_input": "2022-01-26T05:11:49.708455Z",
          "iopub.status.busy": "2022-01-26T05:11:49.706738Z",
          "iopub.status.idle": "2022-01-26T05:11:51.276934Z",
          "shell.execute_reply": "2022-01-26T05:11:51.277363Z"
        },
        "id": "L9YmGQBQPrdn"
      },
      "execution_count": 5,
      "outputs": []
    },
    {
      "cell_type": "markdown",
      "source": "Here's the complete architecture of your model:",
      "metadata": {
        "id": "lvDVFkg-2DPm"
      }
    },
    {
      "cell_type": "code",
      "source": "model.summary()",
      "metadata": {
        "id": "8-C4XBg4UTJy",
        "tags": []
      },
      "execution_count": null,
      "outputs": []
    },
    {
      "cell_type": "markdown",
      "source": "### Compile and train the model",
      "metadata": {
        "id": "P3odqfHP4M67",
        "tags": []
      }
    },
    {
      "cell_type": "code",
      "source": "model.compile(optimizer='adam',\n              loss=tf.keras.losses.SparseCategoricalCrossentropy(from_logits=True),\n              metrics=['accuracy'])\n\nhistory = model.fit(x_train, y_train, epochs=5)",
      "metadata": {
        "id": "MdDzI75PUXrG",
        "tags": []
      },
      "execution_count": null,
      "outputs": []
    },
    {
      "cell_type": "markdown",
      "source": "### Evaluate",
      "metadata": {
        "tags": []
      }
    },
    {
      "cell_type": "code",
      "source": "model.evaluate(x_test, y_test)",
      "metadata": {},
      "execution_count": null,
      "outputs": []
    },
    {
      "cell_type": "markdown",
      "source": "# Task 2 ",
      "metadata": {
        "id": "jKgyC5K_4O0d"
      }
    },
    {
      "cell_type": "markdown",
      "source": "### Resize to 56 Pixels",
      "metadata": {}
    },
    {
      "cell_type": "code",
      "source": "# TODO: finish this function\ndef resize(img_set):\n    size = (56, 56)\n    for img in img_set:\n        ds.map(lambda img: smart_resize(img, size))\n    ",
      "metadata": {},
      "execution_count": null,
      "outputs": []
    },
    {
      "cell_type": "code",
      "source": "x_train_resized = resize(x_train)\nx_test_resized = resize(x_test)",
      "metadata": {},
      "execution_count": null,
      "outputs": []
    },
    {
      "cell_type": "code",
      "source": "model = models.Sequential()\nmodel.add(layers.Conv2D(32, (3, 3), activation='relu', input_shape=(56, 56, 1)))\nmodel.add(layers.MaxPooling2D((2, 2)))\nmodel.add(layers.Conv2D(64, (3, 3), activation='relu'))\nmodel.add(layers.MaxPooling2D((2, 2)))\nmodel.add(layers.Conv2D(64, (3, 3), activation='relu'))\nmodel.add(layers.Flatten())\nmodel.add(layers.Dense(64, activation='relu'))\nmodel.add(layers.Dense(10))",
      "metadata": {
        "execution": {
          "iopub.execute_input": "2022-01-26T05:11:49.708455Z",
          "iopub.status.busy": "2022-01-26T05:11:49.706738Z",
          "iopub.status.idle": "2022-01-26T05:11:51.276934Z",
          "shell.execute_reply": "2022-01-26T05:11:51.277363Z"
        },
        "id": "L9YmGQBQPrdn"
      },
      "execution_count": 5,
      "outputs": []
    },
    {
      "cell_type": "code",
      "source": "model.compile(optimizer='adam',\n              loss=tf.keras.losses.SparseCategoricalCrossentropy(from_logits=True),\n              metrics=['accuracy'])\n\nhistory = model.fit(x_train_resized, y_train, epochs=5)",
      "metadata": {
        "id": "MdDzI75PUXrG",
        "tags": []
      },
      "execution_count": null,
      "outputs": []
    },
    {
      "cell_type": "code",
      "source": "model.evaluate(x_test_resized, y_test)",
      "metadata": {},
      "execution_count": null,
      "outputs": []
    }
  ]
}