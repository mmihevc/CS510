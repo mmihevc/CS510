{
 "cells": [
  {
   "cell_type": "markdown",
   "metadata": {
    "id": "rX8mhOLljYeM"
   },
   "source": [
    "##### Copyright 2019 The TensorFlow Authors."
   ]
  },
  {
   "cell_type": "code",
   "execution_count": 1,
   "metadata": {
    "cellView": "form",
    "execution": {
     "iopub.execute_input": "2021-01-27T02:22:31.155179Z",
     "iopub.status.busy": "2021-01-27T02:22:31.154464Z",
     "iopub.status.idle": "2021-01-27T02:22:31.156965Z",
     "shell.execute_reply": "2021-01-27T02:22:31.156425Z"
    },
    "id": "BZSlp3DAjdYf"
   },
   "outputs": [],
   "source": [
    "#@title Licensed under the Apache License, Version 2.0 (the \"License\");\n",
    "# you may not use this file except in compliance with the License.\n",
    "# You may obtain a copy of the License at\n",
    "#\n",
    "# https://www.apache.org/licenses/LICENSE-2.0\n",
    "#\n",
    "# Unless required by applicable law or agreed to in writing, software\n",
    "# distributed under the License is distributed on an \"AS IS\" BASIS,\n",
    "# WITHOUT WARRANTIES OR CONDITIONS OF ANY KIND, either express or implied.\n",
    "# See the License for the specific language governing permissions and\n",
    "# limitations under the License."
   ]
  },
  {
   "cell_type": "markdown",
   "metadata": {
    "id": "3wF5wszaj97Y"
   },
   "source": [
    "# TensorFlow 2 quickstart for beginners"
   ]
  },
  {
   "cell_type": "markdown",
   "metadata": {
    "id": "DUNzJc4jTj6G"
   },
   "source": [
    "<table class=\"tfo-notebook-buttons\" align=\"left\">\n",
    "  <td>\n",
    "    <a target=\"_blank\" href=\"https://www.tensorflow.org/tutorials/quickstart/beginner\"><img src=\"https://www.tensorflow.org/images/tf_logo_32px.png\" />View on TensorFlow.org</a>\n",
    "  </td>\n",
    "  <td>\n",
    "    <a target=\"_blank\" href=\"https://colab.research.google.com/github/tensorflow/docs/blob/master/site/en/tutorials/quickstart/beginner.ipynb\"><img src=\"https://www.tensorflow.org/images/colab_logo_32px.png\" />Run in Google Colab</a>\n",
    "  </td>\n",
    "  <td>\n",
    "    <a target=\"_blank\" href=\"https://github.com/tensorflow/docs/blob/master/site/en/tutorials/quickstart/beginner.ipynb\"><img src=\"https://www.tensorflow.org/images/GitHub-Mark-32px.png\" />View source on GitHub</a>\n",
    "  </td>\n",
    "  <td>\n",
    "    <a href=\"https://storage.googleapis.com/tensorflow_docs/docs/site/en/tutorials/quickstart/beginner.ipynb\"><img src=\"https://www.tensorflow.org/images/download_logo_32px.png\" />Download notebook</a>\n",
    "  </td>\n",
    "</table>"
   ]
  },
  {
   "cell_type": "markdown",
   "metadata": {
    "id": "04QgGZc9bF5D"
   },
   "source": [
    "This short introduction uses [Keras](https://www.tensorflow.org/guide/keras/overview) to:\n",
    "\n",
    "1. Build a neural network that classifies images.\n",
    "2. Train this neural network.\n",
    "3. And, finally, evaluate the accuracy of the model."
   ]
  },
  {
   "cell_type": "markdown",
   "metadata": {
    "id": "hiH7AC-NTniF"
   },
   "source": [
    "This is a [Google Colaboratory](https://colab.research.google.com/notebooks/welcome.ipynb) notebook file. Python programs are run directly in the browser—a great way to learn and use TensorFlow. To follow this tutorial, run the notebook in Google Colab by clicking the button at the top of this page.\n",
    "\n",
    "1. In Colab, connect to a Python runtime: At the top-right of the menu bar, select *CONNECT*.\n",
    "2. Run all the notebook code cells: Select *Runtime* > *Run all*."
   ]
  },
  {
   "cell_type": "markdown",
   "metadata": {
    "id": "nnrWf3PCEzXL"
   },
   "source": [
    "Download and install TensorFlow 2. Import TensorFlow into your program:\n",
    "\n",
    "Note: Upgrade `pip` to install the TensorFlow 2 package. See the [install guide](https://www.tensorflow.org/install) for details."
   ]
  },
  {
   "cell_type": "code",
   "execution_count": 2,
   "metadata": {
    "execution": {
     "iopub.execute_input": "2021-01-27T02:22:31.165375Z",
     "iopub.status.busy": "2021-01-27T02:22:31.164739Z",
     "iopub.status.idle": "2021-01-27T02:22:37.373933Z",
     "shell.execute_reply": "2021-01-27T02:22:37.373322Z"
    },
    "id": "0trJmd6DjqBZ"
   },
   "outputs": [],
   "source": [
    "import tensorflow as tf"
   ]
  },
  {
   "cell_type": "markdown",
   "metadata": {
    "id": "7NAbSZiaoJ4z"
   },
   "source": [
    "Load and prepare the [MNIST dataset](http://yann.lecun.com/exdb/mnist/). Convert the samples from integers to floating-point numbers:"
   ]
  },
  {
   "cell_type": "code",
   "execution_count": 3,
   "metadata": {
    "execution": {
     "iopub.execute_input": "2021-01-27T02:22:37.379364Z",
     "iopub.status.busy": "2021-01-27T02:22:37.378426Z",
     "iopub.status.idle": "2021-01-27T02:22:37.838749Z",
     "shell.execute_reply": "2021-01-27T02:22:37.838096Z"
    },
    "id": "7FP5258xjs-v"
   },
   "outputs": [],
   "source": [
    "mnist = tf.keras.datasets.mnist\n",
    "\n",
    "(x_train, y_train), (x_test, y_test) = mnist.load_data()\n",
    "x_train, x_test = x_train / 255.0, x_test / 255.0"
   ]
  },
  {
   "cell_type": "markdown",
   "metadata": {
    "id": "BPZ68wASog_I"
   },
   "source": [
    "Build the `tf.keras.Sequential` model by stacking layers. Choose an optimizer and loss function for training:"
   ]
  },
  {
   "cell_type": "code",
   "execution_count": 4,
   "metadata": {
    "execution": {
     "iopub.execute_input": "2021-01-27T02:22:37.844781Z",
     "iopub.status.busy": "2021-01-27T02:22:37.843714Z",
     "iopub.status.idle": "2021-01-27T02:22:46.880604Z",
     "shell.execute_reply": "2021-01-27T02:22:46.881017Z"
    },
    "id": "h3IKyzTCDNGo"
   },
   "outputs": [],
   "source": [
    "model = tf.keras.models.Sequential([\n",
    "  tf.keras.layers.Flatten(input_shape=(28, 28)),\n",
    "  tf.keras.layers.Dense(128, activation='relu'),\n",
    "  tf.keras.layers.Dropout(0.2),\n",
    "  tf.keras.layers.Dense(10)\n",
    "])"
   ]
  },
  {
   "cell_type": "markdown",
   "metadata": {
    "id": "l2hiez2eIUz8"
   },
   "source": [
    "For each example the model returns a vector of \"[logits](https://developers.google.com/machine-learning/glossary#logits)\" or \"[log-odds](https://developers.google.com/machine-learning/glossary#log-odds)\" scores, one for each class."
   ]
  },
  {
   "cell_type": "code",
   "execution_count": 5,
   "metadata": {
    "execution": {
     "iopub.execute_input": "2021-01-27T02:22:46.889938Z",
     "iopub.status.busy": "2021-01-27T02:22:46.888924Z",
     "iopub.status.idle": "2021-01-27T02:22:47.311748Z",
     "shell.execute_reply": "2021-01-27T02:22:47.312324Z"
    },
    "id": "OeOrNdnkEEcR"
   },
   "outputs": [
    {
     "data": {
      "text/plain": [
       "array([[ 0.22132616,  0.00785937,  0.29149735,  0.00110077,  0.46096468,\n",
       "         0.02389891,  0.17251779,  0.32867345, -0.0813266 , -0.27897942]],\n",
       "      dtype=float32)"
      ]
     },
     "execution_count": 5,
     "metadata": {},
     "output_type": "execute_result"
    }
   ],
   "source": [
    "predictions = model(x_train[:1]).numpy()\n",
    "predictions"
   ]
  },
  {
   "cell_type": "markdown",
   "metadata": {
    "id": "tgjhDQGcIniO"
   },
   "source": [
    "The `tf.nn.softmax` function converts these logits to \"probabilities\" for each class: "
   ]
  },
  {
   "cell_type": "code",
   "execution_count": 6,
   "metadata": {
    "execution": {
     "iopub.execute_input": "2021-01-27T02:22:47.317672Z",
     "iopub.status.busy": "2021-01-27T02:22:47.316571Z",
     "iopub.status.idle": "2021-01-27T02:22:47.320613Z",
     "shell.execute_reply": "2021-01-27T02:22:47.321064Z"
    },
    "id": "zWSRnQ0WI5eq"
   },
   "outputs": [
    {
     "data": {
      "text/plain": [
       "array([[0.10886932, 0.08794235, 0.11678322, 0.08734999, 0.13835001,\n",
       "        0.08936428, 0.10368318, 0.12120648, 0.0804387 , 0.0660124 ]],\n",
       "      dtype=float32)"
      ]
     },
     "execution_count": 6,
     "metadata": {},
     "output_type": "execute_result"
    }
   ],
   "source": [
    "tf.nn.softmax(predictions).numpy()"
   ]
  },
  {
   "cell_type": "markdown",
   "metadata": {
    "id": "he5u_okAYS4a"
   },
   "source": [
    "Note: It is possible to bake this `tf.nn.softmax` in as the activation function for the last layer of the network. While this can make the model output more directly interpretable, this approach is discouraged as it's impossible to\n",
    "provide an exact and numerically stable loss calculation for all models when using a softmax output. "
   ]
  },
  {
   "cell_type": "markdown",
   "metadata": {
    "id": "hQyugpgRIyrA"
   },
   "source": [
    "The `losses.SparseCategoricalCrossentropy` loss takes a vector of logits and a `True` index and returns a scalar loss for each example."
   ]
  },
  {
   "cell_type": "code",
   "execution_count": 7,
   "metadata": {
    "execution": {
     "iopub.execute_input": "2021-01-27T02:22:47.326443Z",
     "iopub.status.busy": "2021-01-27T02:22:47.325323Z",
     "iopub.status.idle": "2021-01-27T02:22:47.328155Z",
     "shell.execute_reply": "2021-01-27T02:22:47.327614Z"
    },
    "id": "RSkzdv8MD0tT"
   },
   "outputs": [],
   "source": [
    "loss_fn = tf.keras.losses.SparseCategoricalCrossentropy(from_logits=True)"
   ]
  },
  {
   "cell_type": "markdown",
   "metadata": {
    "id": "SfR4MsSDU880"
   },
   "source": [
    "This loss is equal to the negative log probability of the true class:\n",
    "It is zero if the model is sure of the correct class.\n",
    "\n",
    "This untrained model gives probabilities close to random (1/10 for each class), so the initial loss should be close to `-tf.math.log(1/10) ~= 2.3`."
   ]
  },
  {
   "cell_type": "code",
   "execution_count": 8,
   "metadata": {
    "execution": {
     "iopub.execute_input": "2021-01-27T02:22:47.334018Z",
     "iopub.status.busy": "2021-01-27T02:22:47.332880Z",
     "iopub.status.idle": "2021-01-27T02:22:47.339363Z",
     "shell.execute_reply": "2021-01-27T02:22:47.339843Z"
    },
    "id": "NJWqEVrrJ7ZB"
   },
   "outputs": [
    {
     "data": {
      "text/plain": [
       "2.4150343"
      ]
     },
     "execution_count": 8,
     "metadata": {},
     "output_type": "execute_result"
    }
   ],
   "source": [
    "loss_fn(y_train[:1], predictions).numpy()"
   ]
  },
  {
   "cell_type": "code",
   "execution_count": 9,
   "metadata": {
    "execution": {
     "iopub.execute_input": "2021-01-27T02:22:47.349430Z",
     "iopub.status.busy": "2021-01-27T02:22:47.348502Z",
     "iopub.status.idle": "2021-01-27T02:22:47.364666Z",
     "shell.execute_reply": "2021-01-27T02:22:47.364157Z"
    },
    "id": "9foNKHzTD2Vo"
   },
   "outputs": [],
   "source": [
    "model.compile(optimizer='adam',\n",
    "              loss=loss_fn,\n",
    "              metrics=['accuracy'])"
   ]
  },
  {
   "cell_type": "markdown",
   "metadata": {
    "id": "ix4mEL65on-w"
   },
   "source": [
    "The `Model.fit` method adjusts the model parameters to minimize the loss: "
   ]
  },
  {
   "cell_type": "code",
   "execution_count": 10,
   "metadata": {
    "execution": {
     "iopub.execute_input": "2021-01-27T02:22:47.369888Z",
     "iopub.status.busy": "2021-01-27T02:22:47.368635Z",
     "iopub.status.idle": "2021-01-27T02:23:02.490451Z",
     "shell.execute_reply": "2021-01-27T02:23:02.490856Z"
    },
    "id": "y7suUbJXVLqP"
   },
   "outputs": [
    {
     "name": "stdout",
     "output_type": "stream",
     "text": [
      "Epoch 1/5\n",
      "1875/1875 [==============================] - 1s 485us/step - loss: 0.2893 - accuracy: 0.9155\n",
      "Epoch 2/5\n",
      "1875/1875 [==============================] - 1s 491us/step - loss: 0.1422 - accuracy: 0.9575\n",
      "Epoch 3/5\n",
      "1875/1875 [==============================] - 1s 509us/step - loss: 0.1060 - accuracy: 0.9684\n",
      "Epoch 4/5\n",
      "1875/1875 [==============================] - 1s 443us/step - loss: 0.0884 - accuracy: 0.9725\n",
      "Epoch 5/5\n",
      "1875/1875 [==============================] - 1s 470us/step - loss: 0.0762 - accuracy: 0.9761\n"
     ]
    },
    {
     "data": {
      "text/plain": [
       "<tensorflow.python.keras.callbacks.History at 0x7f90b98f1280>"
      ]
     },
     "execution_count": 10,
     "metadata": {},
     "output_type": "execute_result"
    }
   ],
   "source": [
    "model.fit(x_train, y_train, epochs=5)"
   ]
  },
  {
   "cell_type": "markdown",
   "metadata": {
    "id": "4mDAAPFqVVgn"
   },
   "source": [
    "The `Model.evaluate` method checks the models performance, usually on a \"[Validation-set](https://developers.google.com/machine-learning/glossary#validation-set)\" or \"[Test-set](https://developers.google.com/machine-learning/glossary#test-set)\"."
   ]
  },
  {
   "cell_type": "code",
   "execution_count": 11,
   "metadata": {
    "execution": {
     "iopub.execute_input": "2021-01-27T02:23:02.496255Z",
     "iopub.status.busy": "2021-01-27T02:23:02.495021Z",
     "iopub.status.idle": "2021-01-27T02:23:03.037377Z",
     "shell.execute_reply": "2021-01-27T02:23:03.036860Z"
    },
    "id": "F7dTAzgHDUh7"
   },
   "outputs": [
    {
     "name": "stdout",
     "output_type": "stream",
     "text": [
      "313/313 - 0s - loss: 0.0752 - accuracy: 0.9762\n"
     ]
    },
    {
     "data": {
      "text/plain": [
       "[0.07524801045656204, 0.9761999845504761]"
      ]
     },
     "execution_count": 11,
     "metadata": {},
     "output_type": "execute_result"
    }
   ],
   "source": [
    "model.evaluate(x_test,  y_test, verbose=2)"
   ]
  },
  {
   "cell_type": "markdown",
   "metadata": {
    "id": "T4JfEh7kvx6m"
   },
   "source": [
    "The image classifier is now trained to ~98% accuracy on this dataset. To learn more, read the [TensorFlow tutorials](https://www.tensorflow.org/tutorials/)."
   ]
  },
  {
   "cell_type": "markdown",
   "metadata": {
    "id": "Aj8NrlzlJqDG"
   },
   "source": [
    "If you want your model to return a probability, you can wrap the trained model, and attach the softmax to it:"
   ]
  },
  {
   "cell_type": "code",
   "execution_count": 12,
   "metadata": {
    "execution": {
     "iopub.execute_input": "2021-01-27T02:23:03.044680Z",
     "iopub.status.busy": "2021-01-27T02:23:03.044017Z",
     "iopub.status.idle": "2021-01-27T02:23:03.062428Z",
     "shell.execute_reply": "2021-01-27T02:23:03.061917Z"
    },
    "id": "rYb6DrEH0GMv"
   },
   "outputs": [],
   "source": [
    "probability_model = tf.keras.Sequential([\n",
    "  model,\n",
    "  tf.keras.layers.Softmax()\n",
    "])"
   ]
  },
  {
   "cell_type": "code",
   "execution_count": 13,
   "metadata": {
    "execution": {
     "iopub.execute_input": "2021-01-27T02:23:03.067513Z",
     "iopub.status.busy": "2021-01-27T02:23:03.066434Z",
     "iopub.status.idle": "2021-01-27T02:23:03.072553Z",
     "shell.execute_reply": "2021-01-27T02:23:03.073021Z"
    },
    "id": "cnqOZtUp1YR_",
    "scrolled": false
   },
   "outputs": [
    {
     "data": {
      "text/plain": [
       "<tf.Tensor: shape=(5, 10), dtype=float32, numpy=\n",
       "array([[1.0365214e-06, 3.6150460e-08, 4.7345569e-05, 6.2530994e-04,\n",
       "        3.2884192e-11, 4.7556259e-07, 1.2895282e-11, 9.9930406e-01,\n",
       "        1.2928593e-05, 8.8849038e-06],\n",
       "       [1.6056266e-08, 5.8042551e-06, 9.9999213e-01, 1.8591273e-06,\n",
       "        2.1159419e-15, 1.6433510e-09, 5.4104721e-09, 7.4104725e-13,\n",
       "        1.7991282e-07, 2.2028749e-13],\n",
       "       [1.1173721e-07, 9.9601233e-01, 2.0088172e-04, 1.9365007e-05,\n",
       "        1.3022121e-03, 4.5468901e-06, 1.4669480e-05, 1.6095793e-03,\n",
       "        8.3121541e-04, 5.1066700e-06],\n",
       "       [9.9962449e-01, 1.8531440e-09, 2.4825035e-04, 1.7887349e-06,\n",
       "        9.5216535e-08, 7.2463599e-06, 2.5965610e-05, 8.7907567e-05,\n",
       "        4.8120491e-08, 4.1516178e-06],\n",
       "       [3.0169867e-06, 1.4837040e-10, 5.5077899e-06, 8.3639911e-08,\n",
       "        9.8581010e-01, 2.9234052e-06, 1.7161403e-05, 4.5833840e-05,\n",
       "        4.4670722e-07, 1.4114830e-02]], dtype=float32)>"
      ]
     },
     "execution_count": 13,
     "metadata": {},
     "output_type": "execute_result"
    }
   ],
   "source": [
    "probability_model(x_test[:5])"
   ]
  },
  {
   "cell_type": "markdown",
   "metadata": {},
   "source": [
    "### Show Where Model Fails"
   ]
  },
  {
   "cell_type": "code",
   "execution_count": 14,
   "metadata": {},
   "outputs": [],
   "source": [
    "import cv2\n",
    "import numpy as np\n",
    "def display_failed(predictions, y_test, x_test, num_show=10):\n",
    "    incorrects = np.nonzero(predictions!= y_test)\n",
    "    incorrects = incorrects[0]\n",
    "    \n",
    "    font                   = cv2.FONT_HERSHEY_SIMPLEX\n",
    "    text_placement         = (0,20)\n",
    "    font_scale             = .5\n",
    "    font_color             = (255,255,255)\n",
    "    line_type              = 1\n",
    "    \n",
    "    for i, failed_index in zip(range(num_show), incorrects):\n",
    "        scale_percent = 1000 # percent of original size\n",
    "        img = x_test[failed_index]        \n",
    "        width = int(img.shape[1] * scale_percent / 100)\n",
    "        height = int(img.shape[0] * scale_percent / 100)\n",
    "        dim = (width, height)\n",
    "        img = cv2.resize(img, dim, interpolation = cv2.INTER_AREA)\n",
    "        cv2.putText(img, f'Failed Label:{str(predictions[failed_index])}     True Label:{y_test[failed_index]}', text_placement, font, font_scale, font_color, line_type)\n",
    "        cv2.imshow(f'Failed Image {i + 1}', img)\n",
    "        cv2.waitKey(0)\n",
    "        cv2.destroyAllWindows()\n",
    "    print('done!')\n"
   ]
  },
  {
   "cell_type": "code",
   "execution_count": 15,
   "metadata": {},
   "outputs": [
    {
     "name": "stdout",
     "output_type": "stream",
     "text": [
      "done!\n"
     ]
    }
   ],
   "source": [
    "predictions  = np.argmax(probability_model.predict(x_test),axis=-1)\n",
    "display_failed(predictions, y_test, x_test, 3)"
   ]
  },
  {
   "cell_type": "markdown",
   "metadata": {},
   "source": [
    "### Change Epochs"
   ]
  },
  {
   "cell_type": "code",
   "execution_count": 16,
   "metadata": {},
   "outputs": [
    {
     "name": "stdout",
     "output_type": "stream",
     "text": [
      "313/313 - 0s - loss: 0.0752 - accuracy: 0.9762\n",
      "1875/1875 [==============================] - 1s 505us/step - loss: 0.0641 - accuracy: 0.9795\n",
      "313/313 - 0s - loss: 0.0732 - accuracy: 0.9789\n",
      "Epoch 1/2\n",
      "1875/1875 [==============================] - 1s 474us/step - loss: 0.0572 - accuracy: 0.9815\n",
      "Epoch 2/2\n",
      "1875/1875 [==============================] - 1s 475us/step - loss: 0.0514 - accuracy: 0.9831\n",
      "313/313 - 0s - loss: 0.0689 - accuracy: 0.9800\n",
      "Epoch 1/3\n",
      "1875/1875 [==============================] - 1s 482us/step - loss: 0.0475 - accuracy: 0.9844\n",
      "Epoch 2/3\n",
      "1875/1875 [==============================] - 1s 457us/step - loss: 0.0437 - accuracy: 0.9858\n",
      "Epoch 3/3\n",
      "1875/1875 [==============================] - 1s 464us/step - loss: 0.0403 - accuracy: 0.9861\n",
      "313/313 - 0s - loss: 0.0676 - accuracy: 0.9806\n",
      "Epoch 1/4\n",
      "1875/1875 [==============================] - 1s 456us/step - loss: 0.0387 - accuracy: 0.9867\n",
      "Epoch 2/4\n",
      "1875/1875 [==============================] - 1s 470us/step - loss: 0.0345 - accuracy: 0.98820s - loss: 0.0340 - accura\n",
      "Epoch 3/4\n",
      "1875/1875 [==============================] - 1s 452us/step - loss: 0.0323 - accuracy: 0.9889\n",
      "Epoch 4/4\n",
      "1875/1875 [==============================] - 1s 478us/step - loss: 0.0308 - accuracy: 0.9899\n",
      "313/313 - 0s - loss: 0.0747 - accuracy: 0.9806\n",
      "Epoch 1/5\n",
      "1875/1875 [==============================] - 1s 477us/step - loss: 0.0299 - accuracy: 0.9894\n",
      "Epoch 2/5\n",
      "1875/1875 [==============================] - 1s 460us/step - loss: 0.0301 - accuracy: 0.9897\n",
      "Epoch 3/5\n",
      "1875/1875 [==============================] - 1s 484us/step - loss: 0.0257 - accuracy: 0.9908\n",
      "Epoch 4/5\n",
      "1875/1875 [==============================] - 1s 466us/step - loss: 0.0271 - accuracy: 0.9905\n",
      "Epoch 5/5\n",
      "1875/1875 [==============================] - 1s 476us/step - loss: 0.0236 - accuracy: 0.9914\n",
      "313/313 - 0s - loss: 0.0800 - accuracy: 0.9807\n",
      "Epoch 1/6\n",
      "1875/1875 [==============================] - 1s 471us/step - loss: 0.0257 - accuracy: 0.9910\n",
      "Epoch 2/6\n",
      "1875/1875 [==============================] - 1s 460us/step - loss: 0.0230 - accuracy: 0.9918\n",
      "Epoch 3/6\n",
      "1875/1875 [==============================] - 1s 457us/step - loss: 0.0230 - accuracy: 0.9922\n",
      "Epoch 4/6\n",
      "1875/1875 [==============================] - 1s 460us/step - loss: 0.0238 - accuracy: 0.9920\n",
      "Epoch 5/6\n",
      "1875/1875 [==============================] - 1s 482us/step - loss: 0.0237 - accuracy: 0.9918\n",
      "Epoch 6/6\n",
      "1875/1875 [==============================] - 1s 487us/step - loss: 0.0211 - accuracy: 0.9929\n",
      "313/313 - 0s - loss: 0.0894 - accuracy: 0.9797\n",
      "Epoch 1/7\n",
      "1875/1875 [==============================] - 1s 474us/step - loss: 0.0207 - accuracy: 0.9927\n",
      "Epoch 2/7\n",
      "1875/1875 [==============================] - 1s 473us/step - loss: 0.0218 - accuracy: 0.9923\n",
      "Epoch 3/7\n",
      "1875/1875 [==============================] - 1s 466us/step - loss: 0.0208 - accuracy: 0.9926\n",
      "Epoch 4/7\n",
      "1875/1875 [==============================] - 1s 484us/step - loss: 0.0207 - accuracy: 0.9929\n",
      "Epoch 5/7\n",
      "1875/1875 [==============================] - 1s 481us/step - loss: 0.0197 - accuracy: 0.9928\n",
      "Epoch 6/7\n",
      "1875/1875 [==============================] - 1s 462us/step - loss: 0.0203 - accuracy: 0.9929\n",
      "Epoch 7/7\n",
      "1875/1875 [==============================] - 1s 475us/step - loss: 0.0193 - accuracy: 0.9931\n",
      "313/313 - 0s - loss: 0.0942 - accuracy: 0.9819\n",
      "Epoch 1/8\n",
      "1875/1875 [==============================] - 1s 476us/step - loss: 0.0183 - accuracy: 0.9941\n",
      "Epoch 2/8\n",
      "1875/1875 [==============================] - 1s 481us/step - loss: 0.0176 - accuracy: 0.9941\n",
      "Epoch 3/8\n",
      "1875/1875 [==============================] - 1s 482us/step - loss: 0.0176 - accuracy: 0.9941\n",
      "Epoch 4/8\n",
      "1875/1875 [==============================] - 1s 475us/step - loss: 0.0164 - accuracy: 0.9942\n",
      "Epoch 5/8\n",
      "1875/1875 [==============================] - 1s 473us/step - loss: 0.0188 - accuracy: 0.9939\n",
      "Epoch 6/8\n",
      "1875/1875 [==============================] - 1s 477us/step - loss: 0.0200 - accuracy: 0.9930\n",
      "Epoch 7/8\n",
      "1875/1875 [==============================] - 1s 483us/step - loss: 0.0161 - accuracy: 0.9944\n",
      "Epoch 8/8\n",
      "1875/1875 [==============================] - 1s 478us/step - loss: 0.0160 - accuracy: 0.9944\n",
      "313/313 - 0s - loss: 0.1057 - accuracy: 0.9810\n",
      "Epoch 1/9\n",
      "1875/1875 [==============================] - 1s 487us/step - loss: 0.0166 - accuracy: 0.9945\n",
      "Epoch 2/9\n",
      "1875/1875 [==============================] - 1s 516us/step - loss: 0.0176 - accuracy: 0.9943\n",
      "Epoch 3/9\n",
      "1875/1875 [==============================] - 1s 476us/step - loss: 0.0140 - accuracy: 0.9952\n",
      "Epoch 4/9\n",
      "1875/1875 [==============================] - 1s 480us/step - loss: 0.0148 - accuracy: 0.9952\n",
      "Epoch 5/9\n",
      "1875/1875 [==============================] - 1s 453us/step - loss: 0.0156 - accuracy: 0.9947\n",
      "Epoch 6/9\n",
      "1875/1875 [==============================] - 1s 468us/step - loss: 0.0154 - accuracy: 0.9948\n",
      "Epoch 7/9\n",
      "1875/1875 [==============================] - 1s 471us/step - loss: 0.0160 - accuracy: 0.9947\n",
      "Epoch 8/9\n",
      "1875/1875 [==============================] - 1s 473us/step - loss: 0.0138 - accuracy: 0.9952\n",
      "Epoch 9/9\n",
      "1875/1875 [==============================] - 1s 462us/step - loss: 0.0166 - accuracy: 0.9941\n",
      "313/313 - 0s - loss: 0.1109 - accuracy: 0.9821\n",
      "Epoch 1/10\n",
      "1875/1875 [==============================] - 1s 480us/step - loss: 0.0161 - accuracy: 0.9948\n",
      "Epoch 2/10\n",
      "1875/1875 [==============================] - 1s 478us/step - loss: 0.0153 - accuracy: 0.99480s - loss: 0\n",
      "Epoch 3/10\n",
      "1875/1875 [==============================] - 1s 465us/step - loss: 0.0154 - accuracy: 0.9949\n",
      "Epoch 4/10\n",
      "1875/1875 [==============================] - 1s 475us/step - loss: 0.0142 - accuracy: 0.9953\n",
      "Epoch 5/10\n",
      "1875/1875 [==============================] - 1s 469us/step - loss: 0.0140 - accuracy: 0.99470s - loss: 0.0\n",
      "Epoch 6/10\n",
      "1875/1875 [==============================] - 1s 468us/step - loss: 0.0150 - accuracy: 0.9948\n",
      "Epoch 7/10\n",
      "1875/1875 [==============================] - 1s 539us/step - loss: 0.0129 - accuracy: 0.9955\n",
      "Epoch 8/10\n",
      "1875/1875 [==============================] - 1s 511us/step - loss: 0.0135 - accuracy: 0.9952\n",
      "Epoch 9/10\n",
      "1875/1875 [==============================] - 1s 502us/step - loss: 0.0132 - accuracy: 0.9957\n",
      "Epoch 10/10\n",
      "1875/1875 [==============================] - 1s 475us/step - loss: 0.0138 - accuracy: 0.9954\n",
      "313/313 - 0s - loss: 0.1272 - accuracy: 0.9801\n"
     ]
    }
   ],
   "source": [
    "model_results= []\n",
    "for i in range(11):\n",
    "    model.fit(x_train, y_train, epochs=i)\n",
    "    model_results.append(model.evaluate(x_test,  y_test, verbose=2))\n"
   ]
  },
  {
   "cell_type": "code",
   "execution_count": 17,
   "metadata": {},
   "outputs": [
    {
     "data": {
      "image/png": "[encoded data removed]",
      "text/plain": [
       "<Figure size 432x288 with 1 Axes>"
      ]
     },
     "metadata": {
      "needs_background": "light"
     },
     "output_type": "display_data"
    },
    {
     "data": {
      "image/png": "[encoded data removed]",
      "text/plain": [
       "<Figure size 432x288 with 1 Axes>"
      ]
     },
     "metadata": {
      "needs_background": "light"
     },
     "output_type": "display_data"
    }
   ],
   "source": [
    "import matplotlib.pyplot as plt\n",
    "models_loss = [model_results[i][0] for i in range(len(model_results))]\n",
    "models_acc = [model_results[i][1] for i in range(len(model_results))]\n",
    "plt.plot(models_loss)\n",
    "plt.ylabel('loss')\n",
    "plt.xlabel('number of epochs trained')\n",
    "plt.show()\n",
    "plt.plot(models_acc)\n",
    "plt.ylabel('accuracy')\n",
    "plt.xlabel('number of epochs trained')\n",
    "plt.show()"
   ]
  },
  {
   "cell_type": "markdown",
   "metadata": {},
   "source": [
    "### Change Networks Width and Depth"
   ]
  },
  {
   "cell_type": "code",
   "execution_count": 18,
   "metadata": {},
   "outputs": [],
   "source": [
    "model_1 = tf.keras.models.Sequential([\n",
    "  tf.keras.layers.Flatten(input_shape=(28, 28)),\n",
    "  tf.keras.layers.Dense(128, activation='relu'),\n",
    "  tf.keras.layers.Dense(10)\n",
    "])\n",
    "\n",
    "model_2 = tf.keras.models.Sequential([\n",
    "  tf.keras.layers.Flatten(input_shape=(28, 28)),\n",
    "  tf.keras.layers.Dense(128, activation='relu'),\n",
    "  tf.keras.layers.Dropout(0.2),\n",
    "  tf.keras.layers.Dense(64, activation='relu'),\n",
    "  tf.keras.layers.Dropout(0.2),\n",
    "  tf.keras.layers.Dense(32, activation='relu'),\n",
    "  tf.keras.layers.Dropout(0.2),\n",
    "  tf.keras.layers.Dense(16, activation='relu'),\n",
    "  tf.keras.layers.Dropout(0.2),\n",
    "  tf.keras.layers.Dense(8, activation='relu'),\n",
    "  tf.keras.layers.Dropout(0.2),\n",
    "  tf.keras.layers.Dense(4, activation='relu'),\n",
    "  tf.keras.layers.Dropout(0.2),\n",
    "  tf.keras.layers.Dense(8, activation='relu'),\n",
    "  tf.keras.layers.Dropout(0.2),\n",
    "  tf.keras.layers.Dense(16, activation='relu'),\n",
    "  tf.keras.layers.Dropout(0.2),\n",
    "  tf.keras.layers.Dense(32, activation='relu'),\n",
    "  tf.keras.layers.Dropout(0.2),\n",
    "  tf.keras.layers.Dense(64, activation='relu'),\n",
    "  tf.keras.layers.Dropout(0.2),\n",
    "  tf.keras.layers.Dense(128, activation='relu'),\n",
    "  tf.keras.layers.Dropout(0.2),\n",
    "  tf.keras.layers.Dense(10)\n",
    "])\n",
    "\n",
    "model_3 = tf.keras.models.Sequential([\n",
    "  tf.keras.layers.Flatten(input_shape=(28, 28)),\n",
    "  tf.keras.layers.Dense(128, activation='relu'),\n",
    "  tf.keras.layers.Dense(128, activation='relu'),\n",
    "  tf.keras.layers.Dense(128, activation='relu'),\n",
    "  tf.keras.layers.Dropout(0.2),\n",
    "  tf.keras.layers.Dense(10)\n",
    "])\n",
    "\n",
    "model_4 = tf.keras.models.Sequential([\n",
    "  tf.keras.layers.Flatten(input_shape=(28, 28)),\n",
    "  tf.keras.layers.Dense(128, activation='relu'),\n",
    "  tf.keras.layers.Dropout(0.2),\n",
    "  tf.keras.layers.Dense(128, activation='sigmoid'),\n",
    "  tf.keras.layers.Dropout(0.2),\n",
    "  tf.keras.layers.Dense(128, activation='tanh'),\n",
    "  tf.keras.layers.Dropout(0.2),\n",
    "  tf.keras.layers.Dense(10)\n",
    "])"
   ]
  },
  {
   "cell_type": "code",
   "execution_count": 19,
   "metadata": {},
   "outputs": [
    {
     "name": "stdout",
     "output_type": "stream",
     "text": [
      "Epoch 1/5\n",
      "1875/1875 [==============================] - 1s 445us/step - loss: 0.2584 - accuracy: 0.9265\n",
      "Epoch 2/5\n",
      "1875/1875 [==============================] - 1s 473us/step - loss: 0.1118 - accuracy: 0.9674\n",
      "Epoch 3/5\n",
      "1875/1875 [==============================] - 1s 469us/step - loss: 0.0773 - accuracy: 0.9762\n",
      "Epoch 4/5\n",
      "1875/1875 [==============================] - 1s 461us/step - loss: 0.0571 - accuracy: 0.9820\n",
      "Epoch 5/5\n",
      "1875/1875 [==============================] - 1s 479us/step - loss: 0.0437 - accuracy: 0.9862\n",
      "313/313 - 0s - loss: 0.0750 - accuracy: 0.9769\n",
      "Epoch 1/5\n",
      "1875/1875 [==============================] - 1s 693us/step - loss: 1.6640 - accuracy: 0.3290\n",
      "Epoch 2/5\n",
      "1875/1875 [==============================] - 1s 694us/step - loss: 1.3170 - accuracy: 0.4578\n",
      "Epoch 3/5\n",
      "1875/1875 [==============================] - 2s 812us/step - loss: 1.2072 - accuracy: 0.5031\n",
      "Epoch 4/5\n",
      "1875/1875 [==============================] - 2s 816us/step - loss: 1.1106 - accuracy: 0.5338\n",
      "Epoch 5/5\n",
      "1875/1875 [==============================] - 1s 728us/step - loss: 1.0128 - accuracy: 0.5550\n",
      "313/313 - 0s - loss: 1.1348 - accuracy: 0.4694\n",
      "Epoch 1/5\n",
      "1875/1875 [==============================] - 1s 563us/step - loss: 0.2498 - accuracy: 0.9252\n",
      "Epoch 2/5\n",
      "1875/1875 [==============================] - 1s 568us/step - loss: 0.1081 - accuracy: 0.9682\n",
      "Epoch 3/5\n",
      "1875/1875 [==============================] - 1s 576us/step - loss: 0.0765 - accuracy: 0.9766\n",
      "Epoch 4/5\n",
      "1875/1875 [==============================] - 1s 570us/step - loss: 0.0613 - accuracy: 0.9811\n",
      "Epoch 5/5\n",
      "1875/1875 [==============================] - 1s 557us/step - loss: 0.0495 - accuracy: 0.9843\n",
      "313/313 - 0s - loss: 0.0773 - accuracy: 0.9797\n",
      "Epoch 1/5\n",
      "1875/1875 [==============================] - 1s 702us/step - loss: 0.3594 - accuracy: 0.8909\n",
      "Epoch 2/5\n",
      "1875/1875 [==============================] - 1s 675us/step - loss: 0.1653 - accuracy: 0.9492\n",
      "Epoch 3/5\n",
      "1875/1875 [==============================] - 1s 639us/step - loss: 0.1285 - accuracy: 0.9610\n",
      "Epoch 4/5\n",
      "1875/1875 [==============================] - 1s 669us/step - loss: 0.1059 - accuracy: 0.9671\n",
      "Epoch 5/5\n",
      "1875/1875 [==============================] - 1s 612us/step - loss: 0.0918 - accuracy: 0.9713\n",
      "313/313 - 0s - loss: 0.0745 - accuracy: 0.9764\n"
     ]
    }
   ],
   "source": [
    "model_results = []\n",
    "model_1.compile(optimizer='adam',\n",
    "              loss=loss_fn,\n",
    "              metrics=['accuracy'])\n",
    "\n",
    "model_1.fit(x_train, y_train, epochs=5)\n",
    "model_results.append(model_1.evaluate(x_test,  y_test, verbose=2))\n",
    "\n",
    "model_2.compile(optimizer='adam',\n",
    "              loss=loss_fn,\n",
    "              metrics=['accuracy'])\n",
    "\n",
    "model_2.fit(x_train, y_train, epochs=5)\n",
    "model_results.append(model_2.evaluate(x_test,  y_test, verbose=2))\n",
    "\n",
    "model_3.compile(optimizer='adam',\n",
    "              loss=loss_fn,\n",
    "              metrics=['accuracy'])\n",
    "\n",
    "model_3.fit(x_train, y_train, epochs=5)\n",
    "model_results.append(model_3.evaluate(x_test,  y_test, verbose=2))\n",
    "\n",
    "model_4.compile(optimizer='adam',\n",
    "              loss=loss_fn,\n",
    "              metrics=['accuracy'])\n",
    "model_4.fit(x_train, y_train, epochs=5)\n",
    "model_results.append(model_4.evaluate(x_test,  y_test, verbose=2))\n",
    "\n"
   ]
  },
  {
   "cell_type": "code",
   "execution_count": 20,
   "metadata": {},
   "outputs": [
    {
     "data": {
      "image/png": "[encoded data removed]",
      "text/plain": [
       "<Figure size 432x288 with 1 Axes>"
      ]
     },
     "metadata": {
      "needs_background": "light"
     },
     "output_type": "display_data"
    },
    {
     "data": {
      "image/png": "[encoded data removed]",
      "text/plain": [
       "<Figure size 432x288 with 1 Axes>"
      ]
     },
     "metadata": {
      "needs_background": "light"
     },
     "output_type": "display_data"
    }
   ],
   "source": [
    "model_results\n",
    "fig = plt.figure()\n",
    "ax = fig.add_axes([0,0,1,1])\n",
    "models = ['1', '2', '3', '4']\n",
    "loss = [model_results[i][0] for i in range(len(model_results))]\n",
    "ax.bar(models,loss)\n",
    "ax.set_ylabel('loss')\n",
    "ax.set_xlabel('model number')\n",
    "plt.show()\n",
    "\n",
    "fig_2 = plt.figure()\n",
    "ax_2 = fig_2.add_axes([0,0,1,1])\n",
    "acc = [model_results[i][1] for i in range(len(model_results))]\n",
    "ax_2.bar(models,acc)\n",
    "ax_2.set_ylabel('accuracy')\n",
    "ax_2.set_xlabel('model number')\n",
    "plt.show()"
   ]
  },
  {
   "cell_type": "markdown",
   "metadata": {},
   "source": [
    "### OpenCV Sobel Detection"
   ]
  },
  {
   "cell_type": "code",
   "execution_count": 28,
   "metadata": {},
   "outputs": [],
   "source": [
    "img0 = cv2.imread('giraffe.jpg')\n",
    "gray = cv2.cvtColor(img0, cv2.COLOR_BGR2GRAY)\n",
    "img = cv2.GaussianBlur(gray,(3,3),0)\n",
    "img = x_test[0]\n",
    "\n",
    "# Changing second arguement to cv2.CV_64F, cv2.CV_16S and cv2.CV_8U\n",
    "# Gotta play with this\n",
    "laplacian = cv2.Laplacian(img,cv2.CV_64F)\n",
    "sobelx = cv2.Sobel(img,cv2.CV_64F,1,0,ksize=5)\n",
    "sobely = cv2.Sobel(img,cv2.CV_64F,0,1,ksize=5)\n",
    "img = np.sqrt(np.square(sobelx) + np.square(sobely))\n",
    "img *= 255.0 / gradient_magnitude.max()\n",
    "\n",
    "cv2.imshow('test',sobelx)\n",
    "cv2.imshow('test',sobely)\n",
    "cv2.imshow(\"total\",img)\n",
    "cv2.waitKey(0)\n",
    "cv2.destroyAllWindows()"
   ]
  },
  {
   "cell_type": "code",
   "execution_count": null,
   "metadata": {},
   "outputs": [],
   "source": []
  }
 ],
 "metadata": {
  "colab": {
   "collapsed_sections": [
    "rX8mhOLljYeM"
   ],
   "name": "beginner.ipynb",
   "toc_visible": true
  },
  "kernelspec": {
   "display_name": "Python 3",
   "language": "python",
   "name": "python3"
  },
  "language_info": {
   "codemirror_mode": {
    "name": "ipython",
    "version": 3
   },
   "file_extension": ".py",
   "mimetype": "text/x-python",
   "name": "python",
   "nbconvert_exporter": "python",
   "pygments_lexer": "ipython3",
   "version": "3.8.3"
  }
 },
 "nbformat": 4,
 "nbformat_minor": 1
}
